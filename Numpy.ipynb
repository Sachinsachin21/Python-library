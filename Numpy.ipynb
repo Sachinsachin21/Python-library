{
  "nbformat": 4,
  "nbformat_minor": 0,
  "metadata": {
    "colab": {
      "provenance": [],
      "authorship_tag": "ABX9TyNt0idtcdzUd2rMm0Jkb32N",
      "include_colab_link": true
    },
    "kernelspec": {
      "name": "python3",
      "display_name": "Python 3"
    },
    "language_info": {
      "name": "python"
    }
  },
  "cells": [
    {
      "cell_type": "markdown",
      "metadata": {
        "id": "view-in-github",
        "colab_type": "text"
      },
      "source": [
        "<a href=\"https://colab.research.google.com/github/Sachinsachin21/Python-library/blob/main/Numpy.ipynb\" target=\"_parent\"><img src=\"https://colab.research.google.com/assets/colab-badge.svg\" alt=\"Open In Colab\"/></a>"
      ]
    },
    {
      "cell_type": "code",
      "execution_count": null,
      "metadata": {
        "colab": {
          "base_uri": "https://localhost:8080/"
        },
        "id": "UPF0pC93UcSM",
        "outputId": "d7b1419b-4d0c-4c60-af15-96b1db419e5c"
      },
      "outputs": [
        {
          "output_type": "execute_result",
          "data": {
            "text/plain": [
              "[1, 2, 3, 4, 5, 6, 7, 8, 9, 10]"
            ]
          },
          "metadata": {},
          "execution_count": 1
        }
      ],
      "source": [
        "import numpy as np\n",
        "S = list(range(1,11))  #create list\n",
        "S"
      ]
    },
    {
      "cell_type": "code",
      "source": [
        "P = np.array(S) #transform list into numpy array\n",
        "P"
      ],
      "metadata": {
        "colab": {
          "base_uri": "https://localhost:8080/"
        },
        "id": "QIVEa1uGUvfI",
        "outputId": "60e67fbd-ee3e-4624-8e0c-2369681dd9e9"
      },
      "execution_count": null,
      "outputs": [
        {
          "output_type": "execute_result",
          "data": {
            "text/plain": [
              "array([ 1,  2,  3,  4,  5,  6,  7,  8,  9, 10])"
            ]
          },
          "metadata": {},
          "execution_count": 2
        }
      ]
    },
    {
      "cell_type": "code",
      "source": [
        "type(P)   #check datatype"
      ],
      "metadata": {
        "colab": {
          "base_uri": "https://localhost:8080/"
        },
        "id": "HfPCuaaIU8Vs",
        "outputId": "c0474f07-df39-44f1-dd34-7a852c857422"
      },
      "execution_count": null,
      "outputs": [
        {
          "output_type": "execute_result",
          "data": {
            "text/plain": [
              "numpy.ndarray"
            ]
          },
          "metadata": {},
          "execution_count": 3
        }
      ]
    },
    {
      "cell_type": "code",
      "source": [
        "for i in P: #same as lists, ndarrays store multiple elements\n",
        "    print(i)"
      ],
      "metadata": {
        "colab": {
          "base_uri": "https://localhost:8080/"
        },
        "id": "g-1AQy2UVD7d",
        "outputId": "c731e10b-e978-4b8f-823c-1eeff8d12a89"
      },
      "execution_count": null,
      "outputs": [
        {
          "output_type": "stream",
          "name": "stdout",
          "text": [
            "1\n",
            "2\n",
            "3\n",
            "4\n",
            "5\n",
            "6\n",
            "7\n",
            "8\n",
            "9\n",
            "10\n"
          ]
        }
      ]
    },
    {
      "cell_type": "code",
      "source": [
        "S = [1,2.5,\"Dog\",True] #list can store different datatype"
      ],
      "metadata": {
        "id": "ojR3cwtHVQxG"
      },
      "execution_count": null,
      "outputs": []
    },
    {
      "cell_type": "code",
      "source": [
        "for i in S:\n",
        "    print(type(i))"
      ],
      "metadata": {
        "colab": {
          "base_uri": "https://localhost:8080/"
        },
        "id": "X6J_dIluVjju",
        "outputId": "8541dee5-0a34-46fb-9187-cc5ace8ebe84"
      },
      "execution_count": null,
      "outputs": [
        {
          "output_type": "stream",
          "name": "stdout",
          "text": [
            "<class 'int'>\n",
            "<class 'float'>\n",
            "<class 'str'>\n",
            "<class 'bool'>\n"
          ]
        }
      ]
    },
    {
      "cell_type": "code",
      "source": [
        "A = np.array(S)   #in ndarrays, all elements must have same datatype: numpy transforms atomatically\n",
        "A"
      ],
      "metadata": {
        "colab": {
          "base_uri": "https://localhost:8080/"
        },
        "id": "DmWw4qzpVwx9",
        "outputId": "5da813bd-7a0a-4cbb-99a4-7dc3e39ee6e9"
      },
      "execution_count": null,
      "outputs": [
        {
          "output_type": "execute_result",
          "data": {
            "text/plain": [
              "array(['1', '2.5', 'Dog', 'True'], dtype='<U32')"
            ]
          },
          "metadata": {},
          "execution_count": 7
        }
      ]
    },
    {
      "cell_type": "code",
      "source": [
        "for i in A:\n",
        "    print(type(i))"
      ],
      "metadata": {
        "colab": {
          "base_uri": "https://localhost:8080/"
        },
        "id": "EQ0uCqfrV4ym",
        "outputId": "5d2df6de-d307-47ea-ceff-9b032109b92c"
      },
      "execution_count": null,
      "outputs": [
        {
          "output_type": "stream",
          "name": "stdout",
          "text": [
            "<class 'numpy.str_'>\n",
            "<class 'numpy.str_'>\n",
            "<class 'numpy.str_'>\n",
            "<class 'numpy.str_'>\n"
          ]
        }
      ]
    },
    {
      "cell_type": "code",
      "source": [
        "B = np.array([1.,.2,\"3\",.4,5])\n",
        "B"
      ],
      "metadata": {
        "colab": {
          "base_uri": "https://localhost:8080/"
        },
        "id": "J-hygTrkWP5A",
        "outputId": "13979a8f-3485-4261-b1d9-fc2463bb6a6c"
      },
      "execution_count": null,
      "outputs": [
        {
          "output_type": "execute_result",
          "data": {
            "text/plain": [
              "array(['1.0', '0.2', '3', '0.4', '5'], dtype='<U32')"
            ]
          },
          "metadata": {},
          "execution_count": 9
        }
      ]
    },
    {
      "cell_type": "code",
      "source": [
        "type(B)"
      ],
      "metadata": {
        "colab": {
          "base_uri": "https://localhost:8080/"
        },
        "id": "ZEmfiLRuWVqr",
        "outputId": "428b53df-e547-4ab5-a91c-579e2ad38fb0"
      },
      "execution_count": null,
      "outputs": [
        {
          "output_type": "execute_result",
          "data": {
            "text/plain": [
              "numpy.ndarray"
            ]
          },
          "metadata": {},
          "execution_count": 10
        }
      ]
    },
    {
      "cell_type": "code",
      "source": [
        "B.dtype  # cna check single dtype"
      ],
      "metadata": {
        "colab": {
          "base_uri": "https://localhost:8080/"
        },
        "id": "c_H-iTiLWXSz",
        "outputId": "f4ff35d9-eecb-4008-aef9-b574bba7311e"
      },
      "execution_count": null,
      "outputs": [
        {
          "output_type": "execute_result",
          "data": {
            "text/plain": [
              "dtype('<U32')"
            ]
          },
          "metadata": {},
          "execution_count": 11
        }
      ]
    },
    {
      "cell_type": "code",
      "source": [
        "np.arange(0,21,5) #create new ndarray"
      ],
      "metadata": {
        "colab": {
          "base_uri": "https://localhost:8080/"
        },
        "id": "eLxtC8OFWZY0",
        "outputId": "dd0b33e7-b68c-467e-e5aa-da58cc584df1"
      },
      "execution_count": null,
      "outputs": [
        {
          "output_type": "execute_result",
          "data": {
            "text/plain": [
              "array([ 0,  5, 10, 15, 20])"
            ]
          },
          "metadata": {},
          "execution_count": 12
        }
      ]
    },
    {
      "cell_type": "code",
      "source": [
        "W = [1,2,3]\n",
        "W"
      ],
      "metadata": {
        "colab": {
          "base_uri": "https://localhost:8080/"
        },
        "id": "VllSWxY-W3io",
        "outputId": "f73d5581-0e8a-4cf4-c08d-5f186b0f4df0"
      },
      "execution_count": null,
      "outputs": [
        {
          "output_type": "execute_result",
          "data": {
            "text/plain": [
              "[1, 2, 3]"
            ]
          },
          "metadata": {},
          "execution_count": 13
        }
      ]
    },
    {
      "cell_type": "code",
      "source": [
        "W*3 # not a element wise operator"
      ],
      "metadata": {
        "colab": {
          "base_uri": "https://localhost:8080/"
        },
        "id": "N1Dab5XOXEqa",
        "outputId": "0d49c2c3-dfc1-4c17-e4b1-54fe59515eba"
      },
      "execution_count": null,
      "outputs": [
        {
          "output_type": "execute_result",
          "data": {
            "text/plain": [
              "[1, 2, 3, 1, 2, 3, 1, 2, 3]"
            ]
          },
          "metadata": {},
          "execution_count": 14
        }
      ]
    },
    {
      "cell_type": "code",
      "source": [
        "W1=[] # elemnt-wise pot with lists require a bunch of code\n",
        "for i in W:\n",
        "    W1.append(i**3)\n",
        "W1"
      ],
      "metadata": {
        "colab": {
          "base_uri": "https://localhost:8080/"
        },
        "id": "Xcd1bjn3XG36",
        "outputId": "efc56d95-44cb-43eb-d943-6c00edadf42f"
      },
      "execution_count": null,
      "outputs": [
        {
          "output_type": "execute_result",
          "data": {
            "text/plain": [
              "[1, 8, 27]"
            ]
          },
          "metadata": {},
          "execution_count": 15
        }
      ]
    },
    {
      "cell_type": "code",
      "source": [
        "W2 = np.arange(1,21)\n",
        "W3 = W2.reshape(4,5)\n",
        "W3"
      ],
      "metadata": {
        "colab": {
          "base_uri": "https://localhost:8080/"
        },
        "id": "pLMHmFsIX_t7",
        "outputId": "47cc1a5d-7a15-4a1c-92a2-cd785042b149"
      },
      "execution_count": null,
      "outputs": [
        {
          "output_type": "execute_result",
          "data": {
            "text/plain": [
              "array([[ 1,  2,  3,  4,  5],\n",
              "       [ 6,  7,  8,  9, 10],\n",
              "       [11, 12, 13, 14, 15],\n",
              "       [16, 17, 18, 19, 20]])"
            ]
          },
          "metadata": {},
          "execution_count": 16
        }
      ]
    },
    {
      "cell_type": "code",
      "source": [
        "W2**2 #all elements squared"
      ],
      "metadata": {
        "colab": {
          "base_uri": "https://localhost:8080/"
        },
        "id": "W0c8Q3QMYIz8",
        "outputId": "baa8ed1b-827b-41d8-e43b-e1b7aa1e18fb"
      },
      "execution_count": null,
      "outputs": [
        {
          "output_type": "execute_result",
          "data": {
            "text/plain": [
              "array([  1,   4,   9,  16,  25,  36,  49,  64,  81, 100, 121, 144, 169,\n",
              "       196, 225, 256, 289, 324, 361, 400])"
            ]
          },
          "metadata": {},
          "execution_count": 17
        }
      ]
    },
    {
      "cell_type": "code",
      "source": [
        "W2+4"
      ],
      "metadata": {
        "colab": {
          "base_uri": "https://localhost:8080/"
        },
        "id": "qTBRJiS4ZDvb",
        "outputId": "c3ca3e7b-d107-4f37-856b-394e1e410622"
      },
      "execution_count": null,
      "outputs": [
        {
          "output_type": "execute_result",
          "data": {
            "text/plain": [
              "array([ 5,  6,  7,  8,  9, 10, 11, 12, 13, 14, 15, 16, 17, 18, 19, 20, 21,\n",
              "       22, 23, 24])"
            ]
          },
          "metadata": {},
          "execution_count": 18
        }
      ]
    },
    {
      "cell_type": "code",
      "source": [
        "2**W2 #can serve as exponent as well"
      ],
      "metadata": {
        "colab": {
          "base_uri": "https://localhost:8080/"
        },
        "id": "gt01T4XyZZ-O",
        "outputId": "9019834d-0de4-41cc-a40b-e249195ccde0"
      },
      "execution_count": null,
      "outputs": [
        {
          "output_type": "execute_result",
          "data": {
            "text/plain": [
              "array([      2,       4,       8,      16,      32,      64,     128,\n",
              "           256,     512,    1024,    2048,    4096,    8192,   16384,\n",
              "         32768,   65536,  131072,  262144,  524288, 1048576])"
            ]
          },
          "metadata": {},
          "execution_count": 19
        }
      ]
    },
    {
      "cell_type": "code",
      "source": [
        "np.sqrt(W2) #square root of all elements"
      ],
      "metadata": {
        "colab": {
          "base_uri": "https://localhost:8080/"
        },
        "id": "jV7V-o4YZjo6",
        "outputId": "b9f698f0-434e-4a73-a29b-c6ce5fd1114b"
      },
      "execution_count": null,
      "outputs": [
        {
          "output_type": "execute_result",
          "data": {
            "text/plain": [
              "array([1.        , 1.41421356, 1.73205081, 2.        , 2.23606798,\n",
              "       2.44948974, 2.64575131, 2.82842712, 3.        , 3.16227766,\n",
              "       3.31662479, 3.46410162, 3.60555128, 3.74165739, 3.87298335,\n",
              "       4.        , 4.12310563, 4.24264069, 4.35889894, 4.47213595])"
            ]
          },
          "metadata": {},
          "execution_count": 20
        }
      ]
    },
    {
      "cell_type": "code",
      "source": [
        "np.exp(W2)"
      ],
      "metadata": {
        "colab": {
          "base_uri": "https://localhost:8080/"
        },
        "id": "uokyrZ7SZrQg",
        "outputId": "8c5ef1ca-ff11-4d6a-dece-96ee3d02d170"
      },
      "execution_count": null,
      "outputs": [
        {
          "output_type": "execute_result",
          "data": {
            "text/plain": [
              "array([2.71828183e+00, 7.38905610e+00, 2.00855369e+01, 5.45981500e+01,\n",
              "       1.48413159e+02, 4.03428793e+02, 1.09663316e+03, 2.98095799e+03,\n",
              "       8.10308393e+03, 2.20264658e+04, 5.98741417e+04, 1.62754791e+05,\n",
              "       4.42413392e+05, 1.20260428e+06, 3.26901737e+06, 8.88611052e+06,\n",
              "       2.41549528e+07, 6.56599691e+07, 1.78482301e+08, 4.85165195e+08])"
            ]
          },
          "metadata": {},
          "execution_count": 21
        }
      ]
    },
    {
      "cell_type": "code",
      "source": [
        "np.set_printoptions(precision=2,suppress=True) #set precision and suppress"
      ],
      "metadata": {
        "id": "D5ZHUrBsaRIW"
      },
      "execution_count": null,
      "outputs": []
    },
    {
      "cell_type": "code",
      "source": [
        "np.log(W2)"
      ],
      "metadata": {
        "id": "_tbBRfkIakdN",
        "colab": {
          "base_uri": "https://localhost:8080/"
        },
        "outputId": "b2101368-8991-4798-b28d-433e31ac1976"
      },
      "execution_count": null,
      "outputs": [
        {
          "output_type": "execute_result",
          "data": {
            "text/plain": [
              "array([0.  , 0.69, 1.1 , 1.39, 1.61, 1.79, 1.95, 2.08, 2.2 , 2.3 , 2.4 ,\n",
              "       2.48, 2.56, 2.64, 2.71, 2.77, 2.83, 2.89, 2.94, 3.  ])"
            ]
          },
          "metadata": {},
          "execution_count": 23
        }
      ]
    },
    {
      "cell_type": "code",
      "source": [
        "W2.sum()"
      ],
      "metadata": {
        "colab": {
          "base_uri": "https://localhost:8080/"
        },
        "id": "aLEHv9OpbGmh",
        "outputId": "8a32c274-1aa8-48eb-d1d2-43147b94c179"
      },
      "execution_count": null,
      "outputs": [
        {
          "output_type": "execute_result",
          "data": {
            "text/plain": [
              "210"
            ]
          },
          "metadata": {},
          "execution_count": 24
        }
      ]
    },
    {
      "cell_type": "code",
      "source": [
        "np.sum(W2)  #same as above"
      ],
      "metadata": {
        "colab": {
          "base_uri": "https://localhost:8080/"
        },
        "id": "vmC34rw5bOrN",
        "outputId": "539ef590-3166-4b19-ba40-3272cce2b22f"
      },
      "execution_count": null,
      "outputs": [
        {
          "output_type": "execute_result",
          "data": {
            "text/plain": [
              "210"
            ]
          },
          "metadata": {},
          "execution_count": 25
        }
      ]
    },
    {
      "cell_type": "code",
      "source": [
        "W2.size #number of elements"
      ],
      "metadata": {
        "colab": {
          "base_uri": "https://localhost:8080/"
        },
        "id": "Vnz5YqvQbSKt",
        "outputId": "34add134-420b-4d27-85a6-8928ebc64f9b"
      },
      "execution_count": null,
      "outputs": [
        {
          "output_type": "execute_result",
          "data": {
            "text/plain": [
              "20"
            ]
          },
          "metadata": {},
          "execution_count": 26
        }
      ]
    },
    {
      "cell_type": "code",
      "source": [
        "len(W2) #number of rows"
      ],
      "metadata": {
        "colab": {
          "base_uri": "https://localhost:8080/"
        },
        "id": "ZsgUBLSCbW-x",
        "outputId": "b26282fa-b0fe-4098-9f45-89dd35652acd"
      },
      "execution_count": null,
      "outputs": [
        {
          "output_type": "execute_result",
          "data": {
            "text/plain": [
              "20"
            ]
          },
          "metadata": {},
          "execution_count": 27
        }
      ]
    },
    {
      "cell_type": "code",
      "source": [
        "E = np.array([-1,-2,0.5,1,3,4.5])\n",
        "E"
      ],
      "metadata": {
        "colab": {
          "base_uri": "https://localhost:8080/"
        },
        "id": "6n-aZyCDbdk3",
        "outputId": "b97b754a-5347-4cb5-e99d-a521c1da5a99"
      },
      "execution_count": null,
      "outputs": [
        {
          "output_type": "execute_result",
          "data": {
            "text/plain": [
              "array([-1. , -2. ,  0.5,  1. ,  3. ,  4.5])"
            ]
          },
          "metadata": {},
          "execution_count": 28
        }
      ]
    },
    {
      "cell_type": "code",
      "source": [
        "np.abs(E) #absolute value"
      ],
      "metadata": {
        "colab": {
          "base_uri": "https://localhost:8080/"
        },
        "id": "cweZQwb8bwLp",
        "outputId": "0223cf71-0240-4978-9488-967d24c59d50"
      },
      "execution_count": null,
      "outputs": [
        {
          "output_type": "execute_result",
          "data": {
            "text/plain": [
              "array([1. , 2. , 0.5, 1. , 3. , 4.5])"
            ]
          },
          "metadata": {},
          "execution_count": 29
        }
      ]
    },
    {
      "cell_type": "code",
      "source": [
        "R = np.array([-1.2,-2.8,0.6,1.4,2.9,3.7])\n",
        "R"
      ],
      "metadata": {
        "colab": {
          "base_uri": "https://localhost:8080/"
        },
        "id": "oLlLMs71b20m",
        "outputId": "635a65a0-ad49-498b-b791-8c86866686a1"
      },
      "execution_count": null,
      "outputs": [
        {
          "output_type": "execute_result",
          "data": {
            "text/plain": [
              "array([-1.2, -2.8,  0.6,  1.4,  2.9,  3.7])"
            ]
          },
          "metadata": {},
          "execution_count": 30
        }
      ]
    },
    {
      "cell_type": "code",
      "source": [
        "np.ceil(R) #round up"
      ],
      "metadata": {
        "colab": {
          "base_uri": "https://localhost:8080/"
        },
        "id": "uIC5wvAocGzi",
        "outputId": "6ff11220-9569-49e4-d3aa-7021284391a9"
      },
      "execution_count": null,
      "outputs": [
        {
          "output_type": "execute_result",
          "data": {
            "text/plain": [
              "array([-1., -2.,  1.,  2.,  3.,  4.])"
            ]
          },
          "metadata": {},
          "execution_count": 31
        }
      ]
    },
    {
      "cell_type": "code",
      "source": [
        "np.floor(R) #round down"
      ],
      "metadata": {
        "colab": {
          "base_uri": "https://localhost:8080/"
        },
        "id": "mk5ghrVtcNVX",
        "outputId": "e17c7c9e-1200-49ca-fd1f-4ee35a2f46ee"
      },
      "execution_count": null,
      "outputs": [
        {
          "output_type": "execute_result",
          "data": {
            "text/plain": [
              "array([-2., -3.,  0.,  1.,  2.,  3.])"
            ]
          },
          "metadata": {},
          "execution_count": 32
        }
      ]
    },
    {
      "cell_type": "code",
      "source": [
        "np.around([-3.23,-0.76,1.45,2.78],decimals=3) #round to a certain number of decimal places"
      ],
      "metadata": {
        "colab": {
          "base_uri": "https://localhost:8080/"
        },
        "id": "RlFFMOGzcRzx",
        "outputId": "d33cf230-e019-43cc-bdf9-ad189cc43483"
      },
      "execution_count": null,
      "outputs": [
        {
          "output_type": "execute_result",
          "data": {
            "text/plain": [
              "array([-3.23, -0.76,  1.45,  2.78])"
            ]
          },
          "metadata": {},
          "execution_count": 33
        }
      ]
    },
    {
      "cell_type": "code",
      "source": [
        "W2[0] #first element"
      ],
      "metadata": {
        "colab": {
          "base_uri": "https://localhost:8080/"
        },
        "id": "wArOrVypckMk",
        "outputId": "9af5d33b-c634-4860-bff3-29856e60480d"
      },
      "execution_count": null,
      "outputs": [
        {
          "output_type": "execute_result",
          "data": {
            "text/plain": [
              "1"
            ]
          },
          "metadata": {},
          "execution_count": 34
        }
      ]
    },
    {
      "cell_type": "code",
      "source": [
        "W2[2] #third element"
      ],
      "metadata": {
        "colab": {
          "base_uri": "https://localhost:8080/"
        },
        "id": "Qvhu_-Zjc5jq",
        "outputId": "0ad1d6d7-3543-4fb8-a5fb-052c551f7818"
      },
      "execution_count": null,
      "outputs": [
        {
          "output_type": "execute_result",
          "data": {
            "text/plain": [
              "3"
            ]
          },
          "metadata": {},
          "execution_count": 35
        }
      ]
    },
    {
      "cell_type": "code",
      "source": [
        "W2[-1] #last element"
      ],
      "metadata": {
        "colab": {
          "base_uri": "https://localhost:8080/"
        },
        "id": "kyFtpZZ3c-Rt",
        "outputId": "12a83982-9fc6-4769-912a-6ef3ae5a2e48"
      },
      "execution_count": null,
      "outputs": [
        {
          "output_type": "execute_result",
          "data": {
            "text/plain": [
              "20"
            ]
          },
          "metadata": {},
          "execution_count": 36
        }
      ]
    },
    {
      "cell_type": "code",
      "source": [
        "list(enumerate(W2)) #enumerate elements list of index, value tuples"
      ],
      "metadata": {
        "colab": {
          "base_uri": "https://localhost:8080/"
        },
        "id": "J7_GVldhdFmg",
        "outputId": "df9b2dca-8ad4-44e0-aa3d-ca7c705fcd13"
      },
      "execution_count": null,
      "outputs": [
        {
          "output_type": "execute_result",
          "data": {
            "text/plain": [
              "[(0, 1),\n",
              " (1, 2),\n",
              " (2, 3),\n",
              " (3, 4),\n",
              " (4, 5),\n",
              " (5, 6),\n",
              " (6, 7),\n",
              " (7, 8),\n",
              " (8, 9),\n",
              " (9, 10),\n",
              " (10, 11),\n",
              " (11, 12),\n",
              " (12, 13),\n",
              " (13, 14),\n",
              " (14, 15),\n",
              " (15, 16),\n",
              " (16, 17),\n",
              " (17, 18),\n",
              " (18, 19),\n",
              " (19, 20)]"
            ]
          },
          "metadata": {},
          "execution_count": 37
        }
      ]
    },
    {
      "cell_type": "code",
      "source": [
        "W2[2:6] #slice"
      ],
      "metadata": {
        "colab": {
          "base_uri": "https://localhost:8080/"
        },
        "id": "p46yOmdzdP5l",
        "outputId": "a30771dc-7a71-4993-fb22-f2e29396a8d2"
      },
      "execution_count": null,
      "outputs": [
        {
          "output_type": "execute_result",
          "data": {
            "text/plain": [
              "array([3, 4, 5, 6])"
            ]
          },
          "metadata": {},
          "execution_count": 38
        }
      ]
    },
    {
      "cell_type": "code",
      "source": [
        "W2[2:16:2] #slice with step"
      ],
      "metadata": {
        "colab": {
          "base_uri": "https://localhost:8080/"
        },
        "id": "V4Q3RVn_dVq9",
        "outputId": "ce0ad3e2-c000-41be-c5e4-24ed5bd69264"
      },
      "execution_count": null,
      "outputs": [
        {
          "output_type": "execute_result",
          "data": {
            "text/plain": [
              "array([ 3,  5,  7,  9, 11, 13, 15])"
            ]
          },
          "metadata": {},
          "execution_count": 39
        }
      ]
    },
    {
      "cell_type": "code",
      "source": [
        "W2[::3] #slice with step"
      ],
      "metadata": {
        "colab": {
          "base_uri": "https://localhost:8080/"
        },
        "id": "dRGQSCx_dgww",
        "outputId": "2cd3d7c6-d6c2-4116-eb4b-ea04c3b5438d"
      },
      "execution_count": null,
      "outputs": [
        {
          "output_type": "execute_result",
          "data": {
            "text/plain": [
              "array([ 1,  4,  7, 10, 13, 16, 19])"
            ]
          },
          "metadata": {},
          "execution_count": 40
        }
      ]
    },
    {
      "cell_type": "code",
      "source": [
        "W2[7::-1] #reverse"
      ],
      "metadata": {
        "colab": {
          "base_uri": "https://localhost:8080/"
        },
        "id": "NhToFYmqd4lp",
        "outputId": "6a87cecb-db0d-4f26-bd78-8f51d50f5751"
      },
      "execution_count": null,
      "outputs": [
        {
          "output_type": "execute_result",
          "data": {
            "text/plain": [
              "array([8, 7, 6, 5, 4, 3, 2, 1])"
            ]
          },
          "metadata": {},
          "execution_count": 41
        }
      ]
    },
    {
      "cell_type": "code",
      "source": [
        "W2[7]=33\n",
        "W2"
      ],
      "metadata": {
        "colab": {
          "base_uri": "https://localhost:8080/"
        },
        "id": "As_myFd7eArE",
        "outputId": "3cf9e1ee-4292-4347-8200-c5ef6312a855"
      },
      "execution_count": null,
      "outputs": [
        {
          "output_type": "execute_result",
          "data": {
            "text/plain": [
              "array([ 1,  2,  3,  4,  5,  6,  7, 33,  9, 10, 11, 12, 13, 14, 15, 16, 17,\n",
              "       18, 19, 20])"
            ]
          },
          "metadata": {},
          "execution_count": 42
        }
      ]
    },
    {
      "cell_type": "code",
      "source": [
        "W2[-1]=21\n",
        "W2"
      ],
      "metadata": {
        "colab": {
          "base_uri": "https://localhost:8080/"
        },
        "id": "eRfs7v4FeRHx",
        "outputId": "2ea80619-83f0-429f-9273-290d8eaeb867"
      },
      "execution_count": null,
      "outputs": [
        {
          "output_type": "execute_result",
          "data": {
            "text/plain": [
              "array([ 1,  2,  3,  4,  5,  6,  7, 33,  9, 10, 11, 12, 13, 14, 15, 16, 17,\n",
              "       18, 19, 21])"
            ]
          },
          "metadata": {},
          "execution_count": 43
        }
      ]
    },
    {
      "cell_type": "code",
      "source": [
        "W2[12:17]=[23,31,44,56,77]\n",
        "W2"
      ],
      "metadata": {
        "colab": {
          "base_uri": "https://localhost:8080/"
        },
        "id": "yNzR851GeZkI",
        "outputId": "cbaff278-0e32-40a0-ab77-bcdd2c829b2f"
      },
      "execution_count": null,
      "outputs": [
        {
          "output_type": "execute_result",
          "data": {
            "text/plain": [
              "array([ 1,  2,  3,  4,  5,  6,  7, 33,  9, 10, 11, 12, 23, 31, 44, 56, 77,\n",
              "       18, 19, 21])"
            ]
          },
          "metadata": {},
          "execution_count": 44
        }
      ]
    },
    {
      "cell_type": "code",
      "source": [
        "W2[2:4]=[42,43]\n",
        "W2"
      ],
      "metadata": {
        "colab": {
          "base_uri": "https://localhost:8080/"
        },
        "id": "PnxHDVgzepHe",
        "outputId": "ecccf046-2013-47fc-8ec6-d59c92d441a5"
      },
      "execution_count": null,
      "outputs": [
        {
          "output_type": "execute_result",
          "data": {
            "text/plain": [
              "array([ 1,  2, 42, 43,  5,  6,  7, 33,  9, 10, 11, 12, 23, 31, 44, 56, 77,\n",
              "       18, 19, 21])"
            ]
          },
          "metadata": {},
          "execution_count": 45
        }
      ]
    },
    {
      "cell_type": "code",
      "source": [
        "Q = W2[2:8]\n",
        "Q"
      ],
      "metadata": {
        "colab": {
          "base_uri": "https://localhost:8080/"
        },
        "id": "EJcbvL6uez73",
        "outputId": "c12df7ac-debb-47eb-aea4-041ee9c85a8d"
      },
      "execution_count": null,
      "outputs": [
        {
          "output_type": "execute_result",
          "data": {
            "text/plain": [
              "array([42, 43,  5,  6,  7, 33])"
            ]
          },
          "metadata": {},
          "execution_count": 46
        }
      ]
    },
    {
      "cell_type": "code",
      "source": [
        "Q[0]=10\n",
        "Q"
      ],
      "metadata": {
        "colab": {
          "base_uri": "https://localhost:8080/"
        },
        "id": "gTXdK-12fHOA",
        "outputId": "e4dd0ca8-433e-4563-f61d-e3176ca81807"
      },
      "execution_count": null,
      "outputs": [
        {
          "output_type": "execute_result",
          "data": {
            "text/plain": [
              "array([10, 43,  5,  6,  7, 33])"
            ]
          },
          "metadata": {},
          "execution_count": 47
        }
      ]
    },
    {
      "cell_type": "code",
      "source": [
        "D = Q[3:6]\n",
        "D"
      ],
      "metadata": {
        "colab": {
          "base_uri": "https://localhost:8080/"
        },
        "id": "_6llqctrfOFj",
        "outputId": "deb6a7c8-eb9d-4996-bd56-af6c03b3d1a7"
      },
      "execution_count": null,
      "outputs": [
        {
          "output_type": "execute_result",
          "data": {
            "text/plain": [
              "array([ 6,  7, 33])"
            ]
          },
          "metadata": {},
          "execution_count": 48
        }
      ]
    },
    {
      "cell_type": "code",
      "source": [
        "W2.shape"
      ],
      "metadata": {
        "colab": {
          "base_uri": "https://localhost:8080/"
        },
        "id": "9KHKSBb0fn0j",
        "outputId": "74c62375-148f-4c54-f76f-afdda2548124"
      },
      "execution_count": null,
      "outputs": [
        {
          "output_type": "execute_result",
          "data": {
            "text/plain": [
              "(20,)"
            ]
          },
          "metadata": {},
          "execution_count": 49
        }
      ]
    },
    {
      "cell_type": "code",
      "source": [
        "W2=W2.reshape(4,5) #reshape\n",
        "W2"
      ],
      "metadata": {
        "colab": {
          "base_uri": "https://localhost:8080/"
        },
        "id": "-0R5lEHOgJ8f",
        "outputId": "3676a855-7273-450d-bc70-a8fa951d1b42"
      },
      "execution_count": null,
      "outputs": [
        {
          "output_type": "execute_result",
          "data": {
            "text/plain": [
              "array([[ 1,  2, 10, 43,  5],\n",
              "       [ 6,  7, 33,  9, 10],\n",
              "       [11, 12, 23, 31, 44],\n",
              "       [56, 77, 18, 19, 21]])"
            ]
          },
          "metadata": {},
          "execution_count": 50
        }
      ]
    },
    {
      "cell_type": "code",
      "source": [
        "W2.shape"
      ],
      "metadata": {
        "colab": {
          "base_uri": "https://localhost:8080/"
        },
        "id": "Sucz8ZRJgT6d",
        "outputId": "8d51d865-68b8-41cd-b0bf-f46595e1e699"
      },
      "execution_count": null,
      "outputs": [
        {
          "output_type": "execute_result",
          "data": {
            "text/plain": [
              "(4, 5)"
            ]
          },
          "metadata": {},
          "execution_count": 51
        }
      ]
    },
    {
      "cell_type": "code",
      "source": [
        "W2 + 21"
      ],
      "metadata": {
        "colab": {
          "base_uri": "https://localhost:8080/"
        },
        "id": "bgmfZcJ7iLgi",
        "outputId": "bcf72f91-902a-45bb-8603-5a6de92cba92"
      },
      "execution_count": null,
      "outputs": [
        {
          "output_type": "execute_result",
          "data": {
            "text/plain": [
              "array([[22, 23, 31, 64, 26],\n",
              "       [27, 28, 54, 30, 31],\n",
              "       [32, 33, 44, 52, 65],\n",
              "       [77, 98, 39, 40, 42]])"
            ]
          },
          "metadata": {},
          "execution_count": 52
        }
      ]
    },
    {
      "cell_type": "code",
      "source": [
        "W3 = W2.reshape(5,2,2)\n",
        "W3"
      ],
      "metadata": {
        "colab": {
          "base_uri": "https://localhost:8080/"
        },
        "id": "dGZ5bkMTiWcg",
        "outputId": "9e34cefa-da6c-4c7c-c759-31b48d5517d6"
      },
      "execution_count": null,
      "outputs": [
        {
          "output_type": "execute_result",
          "data": {
            "text/plain": [
              "array([[[ 1,  2],\n",
              "        [10, 43]],\n",
              "\n",
              "       [[ 5,  6],\n",
              "        [ 7, 33]],\n",
              "\n",
              "       [[ 9, 10],\n",
              "        [11, 12]],\n",
              "\n",
              "       [[23, 31],\n",
              "        [44, 56]],\n",
              "\n",
              "       [[77, 18],\n",
              "        [19, 21]]])"
            ]
          },
          "metadata": {},
          "execution_count": 53
        }
      ]
    },
    {
      "cell_type": "code",
      "source": [
        "W4 = np.arange(1,101).reshape(10,10) # 2-dim ndarray\n",
        "W4"
      ],
      "metadata": {
        "colab": {
          "base_uri": "https://localhost:8080/"
        },
        "id": "FwBCwHWviwR_",
        "outputId": "07a45c2c-ef1f-48c0-d3aa-fe5bc3b86b39"
      },
      "execution_count": null,
      "outputs": [
        {
          "output_type": "execute_result",
          "data": {
            "text/plain": [
              "array([[  1,   2,   3,   4,   5,   6,   7,   8,   9,  10],\n",
              "       [ 11,  12,  13,  14,  15,  16,  17,  18,  19,  20],\n",
              "       [ 21,  22,  23,  24,  25,  26,  27,  28,  29,  30],\n",
              "       [ 31,  32,  33,  34,  35,  36,  37,  38,  39,  40],\n",
              "       [ 41,  42,  43,  44,  45,  46,  47,  48,  49,  50],\n",
              "       [ 51,  52,  53,  54,  55,  56,  57,  58,  59,  60],\n",
              "       [ 61,  62,  63,  64,  65,  66,  67,  68,  69,  70],\n",
              "       [ 71,  72,  73,  74,  75,  76,  77,  78,  79,  80],\n",
              "       [ 81,  82,  83,  84,  85,  86,  87,  88,  89,  90],\n",
              "       [ 91,  92,  93,  94,  95,  96,  97,  98,  99, 100]])"
            ]
          },
          "metadata": {},
          "execution_count": 54
        }
      ]
    },
    {
      "cell_type": "code",
      "source": [
        "W2[3][3] #third row, third column"
      ],
      "metadata": {
        "colab": {
          "base_uri": "https://localhost:8080/"
        },
        "id": "LoDyeZc8jZAk",
        "outputId": "cb4bdb01-e393-4fe3-c880-17231553d293"
      },
      "execution_count": null,
      "outputs": [
        {
          "output_type": "execute_result",
          "data": {
            "text/plain": [
              "19"
            ]
          },
          "metadata": {},
          "execution_count": 55
        }
      ]
    },
    {
      "cell_type": "code",
      "source": [
        "W2[3,3] #same as above"
      ],
      "metadata": {
        "colab": {
          "base_uri": "https://localhost:8080/"
        },
        "id": "XDyoXfBwkpHK",
        "outputId": "f6b14ce0-f77d-40a1-ac98-5b688ff98d68"
      },
      "execution_count": null,
      "outputs": [
        {
          "output_type": "execute_result",
          "data": {
            "text/plain": [
              "19"
            ]
          },
          "metadata": {},
          "execution_count": 56
        }
      ]
    },
    {
      "cell_type": "code",
      "source": [
        "W2[-3,-3] #last row, last column"
      ],
      "metadata": {
        "colab": {
          "base_uri": "https://localhost:8080/"
        },
        "id": "5jinJlNVlM33",
        "outputId": "b4a75a1f-bbc1-4b66-e908-6f1a47373636"
      },
      "execution_count": null,
      "outputs": [
        {
          "output_type": "execute_result",
          "data": {
            "text/plain": [
              "33"
            ]
          },
          "metadata": {},
          "execution_count": 57
        }
      ]
    },
    {
      "cell_type": "code",
      "source": [
        "W2[1:4,1:4]"
      ],
      "metadata": {
        "colab": {
          "base_uri": "https://localhost:8080/"
        },
        "id": "olIXPInklorL",
        "outputId": "e101825a-79f3-4add-a1ff-3096061d590c"
      },
      "execution_count": null,
      "outputs": [
        {
          "output_type": "execute_result",
          "data": {
            "text/plain": [
              "array([[ 7, 33,  9],\n",
              "       [12, 23, 31],\n",
              "       [77, 18, 19]])"
            ]
          },
          "metadata": {},
          "execution_count": 58
        }
      ]
    },
    {
      "cell_type": "code",
      "source": [
        "W2.T #transpose"
      ],
      "metadata": {
        "colab": {
          "base_uri": "https://localhost:8080/"
        },
        "id": "j5asSxZQm0b5",
        "outputId": "26d9b52f-907b-4684-f384-1d70faf71a30"
      },
      "execution_count": null,
      "outputs": [
        {
          "output_type": "execute_result",
          "data": {
            "text/plain": [
              "array([[ 1,  6, 11, 56],\n",
              "       [ 2,  7, 12, 77],\n",
              "       [10, 33, 23, 18],\n",
              "       [43,  9, 31, 19],\n",
              "       [ 5, 10, 44, 21]])"
            ]
          },
          "metadata": {},
          "execution_count": 59
        }
      ]
    },
    {
      "cell_type": "code",
      "source": [
        "W2.transpose() #same as above"
      ],
      "metadata": {
        "colab": {
          "base_uri": "https://localhost:8080/"
        },
        "id": "qaSI_ntdm8rw",
        "outputId": "586fb7d0-5dd3-49b9-8250-ab813a9a07b9"
      },
      "execution_count": null,
      "outputs": [
        {
          "output_type": "execute_result",
          "data": {
            "text/plain": [
              "array([[ 1,  6, 11, 56],\n",
              "       [ 2,  7, 12, 77],\n",
              "       [10, 33, 23, 18],\n",
              "       [43,  9, 31, 19],\n",
              "       [ 5, 10, 44, 21]])"
            ]
          },
          "metadata": {},
          "execution_count": 60
        }
      ]
    },
    {
      "cell_type": "code",
      "source": [
        "W2.flatten() #flatten"
      ],
      "metadata": {
        "colab": {
          "base_uri": "https://localhost:8080/"
        },
        "id": "n1h7P_7VnCnE",
        "outputId": "62220174-3e07-4559-a3e5-f2591cad56da"
      },
      "execution_count": null,
      "outputs": [
        {
          "output_type": "execute_result",
          "data": {
            "text/plain": [
              "array([ 1,  2, 10, 43,  5,  6,  7, 33,  9, 10, 11, 12, 23, 31, 44, 56, 77,\n",
              "       18, 19, 21])"
            ]
          },
          "metadata": {},
          "execution_count": 61
        }
      ]
    },
    {
      "cell_type": "code",
      "source": [
        "W2[2:,-1] = W2[2:,-1]/4  #change last column\n",
        "W2"
      ],
      "metadata": {
        "colab": {
          "base_uri": "https://localhost:8080/"
        },
        "id": "A15uNtACnHny",
        "outputId": "ac107fe1-4bb2-4e9d-e4b6-5c555dc76652"
      },
      "execution_count": null,
      "outputs": [
        {
          "output_type": "execute_result",
          "data": {
            "text/plain": [
              "array([[ 1,  2, 10, 43,  5],\n",
              "       [ 6,  7, 33,  9, 10],\n",
              "       [11, 12, 23, 31, 11],\n",
              "       [56, 77, 18, 19,  5]])"
            ]
          },
          "metadata": {},
          "execution_count": 62
        }
      ]
    },
    {
      "cell_type": "code",
      "source": [
        "W4.cumsum() #cumulative sum"
      ],
      "metadata": {
        "colab": {
          "base_uri": "https://localhost:8080/"
        },
        "id": "nkWQSiuXnw5E",
        "outputId": "035299cd-2a0b-4a37-d8d2-013376ac8beb"
      },
      "execution_count": null,
      "outputs": [
        {
          "output_type": "execute_result",
          "data": {
            "text/plain": [
              "array([   1,    3,    6,   10,   15,   21,   28,   36,   45,   55,   66,\n",
              "         78,   91,  105,  120,  136,  153,  171,  190,  210,  231,  253,\n",
              "        276,  300,  325,  351,  378,  406,  435,  465,  496,  528,  561,\n",
              "        595,  630,  666,  703,  741,  780,  820,  861,  903,  946,  990,\n",
              "       1035, 1081, 1128, 1176, 1225, 1275, 1326, 1378, 1431, 1485, 1540,\n",
              "       1596, 1653, 1711, 1770, 1830, 1891, 1953, 2016, 2080, 2145, 2211,\n",
              "       2278, 2346, 2415, 2485, 2556, 2628, 2701, 2775, 2850, 2926, 3003,\n",
              "       3081, 3160, 3240, 3321, 3403, 3486, 3570, 3655, 3741, 3828, 3916,\n",
              "       4005, 4095, 4186, 4278, 4371, 4465, 4560, 4656, 4753, 4851, 4950,\n",
              "       5050])"
            ]
          },
          "metadata": {},
          "execution_count": 63
        }
      ]
    },
    {
      "cell_type": "code",
      "source": [
        "W4.sum(axis=0) #sum all elements"
      ],
      "metadata": {
        "colab": {
          "base_uri": "https://localhost:8080/"
        },
        "id": "vdAt_PfnnWhf",
        "outputId": "4b20f795-4615-4d40-aaed-77d84a47032c"
      },
      "execution_count": null,
      "outputs": [
        {
          "output_type": "execute_result",
          "data": {
            "text/plain": [
              "array([460, 470, 480, 490, 500, 510, 520, 530, 540, 550])"
            ]
          },
          "metadata": {},
          "execution_count": 64
        }
      ]
    },
    {
      "cell_type": "code",
      "source": [
        "W4.sum(axis=1)"
      ],
      "metadata": {
        "colab": {
          "base_uri": "https://localhost:8080/"
        },
        "id": "OAA25zM2oHlu",
        "outputId": "f5651bd8-88e7-4a9b-a8e2-1cbc78c1443f"
      },
      "execution_count": null,
      "outputs": [
        {
          "output_type": "execute_result",
          "data": {
            "text/plain": [
              "array([ 55, 155, 255, 355, 455, 555, 655, 755, 855, 955])"
            ]
          },
          "metadata": {},
          "execution_count": 65
        }
      ]
    },
    {
      "cell_type": "code",
      "source": [
        "W4.cumsum(axis=0)"
      ],
      "metadata": {
        "colab": {
          "base_uri": "https://localhost:8080/"
        },
        "id": "e8v-uul6onT_",
        "outputId": "e1506a2c-b4b3-4146-eeae-35b4185c420f"
      },
      "execution_count": null,
      "outputs": [
        {
          "output_type": "execute_result",
          "data": {
            "text/plain": [
              "array([[  1,   2,   3,   4,   5,   6,   7,   8,   9,  10],\n",
              "       [ 12,  14,  16,  18,  20,  22,  24,  26,  28,  30],\n",
              "       [ 33,  36,  39,  42,  45,  48,  51,  54,  57,  60],\n",
              "       [ 64,  68,  72,  76,  80,  84,  88,  92,  96, 100],\n",
              "       [105, 110, 115, 120, 125, 130, 135, 140, 145, 150],\n",
              "       [156, 162, 168, 174, 180, 186, 192, 198, 204, 210],\n",
              "       [217, 224, 231, 238, 245, 252, 259, 266, 273, 280],\n",
              "       [288, 296, 304, 312, 320, 328, 336, 344, 352, 360],\n",
              "       [369, 378, 387, 396, 405, 414, 423, 432, 441, 450],\n",
              "       [460, 470, 480, 490, 500, 510, 520, 530, 540, 550]])"
            ]
          },
          "metadata": {},
          "execution_count": 66
        }
      ]
    },
    {
      "cell_type": "code",
      "source": [
        "W4.cumsum(axis=1)"
      ],
      "metadata": {
        "colab": {
          "base_uri": "https://localhost:8080/"
        },
        "id": "L_BZFEMpotW9",
        "outputId": "9767741d-4d22-4ed3-db8c-90e3be6ad7e5"
      },
      "execution_count": null,
      "outputs": [
        {
          "output_type": "execute_result",
          "data": {
            "text/plain": [
              "array([[  1,   3,   6,  10,  15,  21,  28,  36,  45,  55],\n",
              "       [ 11,  23,  36,  50,  65,  81,  98, 116, 135, 155],\n",
              "       [ 21,  43,  66,  90, 115, 141, 168, 196, 225, 255],\n",
              "       [ 31,  63,  96, 130, 165, 201, 238, 276, 315, 355],\n",
              "       [ 41,  83, 126, 170, 215, 261, 308, 356, 405, 455],\n",
              "       [ 51, 103, 156, 210, 265, 321, 378, 436, 495, 555],\n",
              "       [ 61, 123, 186, 250, 315, 381, 448, 516, 585, 655],\n",
              "       [ 71, 143, 216, 290, 365, 441, 518, 596, 675, 755],\n",
              "       [ 81, 163, 246, 330, 415, 501, 588, 676, 765, 855],\n",
              "       [ 91, 183, 276, 370, 465, 561, 658, 756, 855, 955]])"
            ]
          },
          "metadata": {},
          "execution_count": 67
        }
      ]
    },
    {
      "cell_type": "code",
      "source": [
        "W2.prod() #product"
      ],
      "metadata": {
        "colab": {
          "base_uri": "https://localhost:8080/"
        },
        "id": "hwv9ugRvovdI",
        "outputId": "d1fb614f-a2a6-49e5-b2e4-8138ea597cc7"
      },
      "execution_count": null,
      "outputs": [
        {
          "output_type": "execute_result",
          "data": {
            "text/plain": [
              "-636374101439818752"
            ]
          },
          "metadata": {},
          "execution_count": 68
        }
      ]
    },
    {
      "cell_type": "code",
      "source": [
        "W2.prod(axis=0) #product of each column"
      ],
      "metadata": {
        "colab": {
          "base_uri": "https://localhost:8080/"
        },
        "id": "nNqvOEA6qZ6I",
        "outputId": "1d735522-4700-48ce-a8ca-6840393e9b95"
      },
      "execution_count": null,
      "outputs": [
        {
          "output_type": "execute_result",
          "data": {
            "text/plain": [
              "array([  3696,  12936, 136620, 227943,   2750])"
            ]
          },
          "metadata": {},
          "execution_count": 69
        }
      ]
    },
    {
      "cell_type": "code",
      "source": [
        "W2.prod(axis=1) #product of each row"
      ],
      "metadata": {
        "colab": {
          "base_uri": "https://localhost:8080/"
        },
        "id": "qrr0svCqqjmh",
        "outputId": "9e8ea3ee-142e-4ffa-f0c2-f0463cd1f112"
      },
      "execution_count": null,
      "outputs": [
        {
          "output_type": "execute_result",
          "data": {
            "text/plain": [
              "array([   4300,  124740, 1035276, 7373520])"
            ]
          },
          "metadata": {},
          "execution_count": 70
        }
      ]
    },
    {
      "cell_type": "code",
      "source": [
        "Y = np.arange(1,11)\n",
        "Y"
      ],
      "metadata": {
        "colab": {
          "base_uri": "https://localhost:8080/"
        },
        "id": "fgQ-rxkaq8fX",
        "outputId": "7dad58a3-53f1-4fb0-e476-1e71909e4143"
      },
      "execution_count": null,
      "outputs": [
        {
          "output_type": "execute_result",
          "data": {
            "text/plain": [
              "array([ 1,  2,  3,  4,  5,  6,  7,  8,  9, 10])"
            ]
          },
          "metadata": {},
          "execution_count": 71
        }
      ]
    },
    {
      "cell_type": "code",
      "source": [
        "M1 = Y >5\n",
        "M1"
      ],
      "metadata": {
        "colab": {
          "base_uri": "https://localhost:8080/"
        },
        "id": "RWm73ocvqmhL",
        "outputId": "377cbcd5-f68f-4ee0-8d53-2fd150a1136e"
      },
      "execution_count": null,
      "outputs": [
        {
          "output_type": "execute_result",
          "data": {
            "text/plain": [
              "array([False, False, False, False, False,  True,  True,  True,  True,\n",
              "        True])"
            ]
          },
          "metadata": {},
          "execution_count": 72
        }
      ]
    },
    {
      "cell_type": "code",
      "source": [
        "M2 = Y%2==0\n",
        "M2"
      ],
      "metadata": {
        "colab": {
          "base_uri": "https://localhost:8080/"
        },
        "id": "IQDnm9HurZes",
        "outputId": "68ae43b1-e366-4f66-86f7-a1528cb67eed"
      },
      "execution_count": null,
      "outputs": [
        {
          "output_type": "execute_result",
          "data": {
            "text/plain": [
              "array([False,  True, False,  True, False,  True, False,  True, False,\n",
              "        True])"
            ]
          },
          "metadata": {},
          "execution_count": 73
        }
      ]
    },
    {
      "cell_type": "code",
      "source": [
        "M3 = Y<8\n",
        "M3"
      ],
      "metadata": {
        "colab": {
          "base_uri": "https://localhost:8080/"
        },
        "id": "fHEoGZr1reSb",
        "outputId": "564a863e-26f2-4839-c0f9-444ed10563a9"
      },
      "execution_count": null,
      "outputs": [
        {
          "output_type": "execute_result",
          "data": {
            "text/plain": [
              "array([ True,  True,  True,  True,  True,  True,  True, False, False,\n",
              "       False])"
            ]
          },
          "metadata": {},
          "execution_count": 74
        }
      ]
    },
    {
      "cell_type": "code",
      "source": [
        "M4 = (Y>5) & (Y<8) #bitwise and\n",
        "M4"
      ],
      "metadata": {
        "colab": {
          "base_uri": "https://localhost:8080/"
        },
        "id": "AoGXWxpvrlw7",
        "outputId": "bd770ee0-5e6a-4b9c-e24d-2b6195029e3a"
      },
      "execution_count": null,
      "outputs": [
        {
          "output_type": "execute_result",
          "data": {
            "text/plain": [
              "array([False, False, False, False, False,  True,  True, False, False,\n",
              "       False])"
            ]
          },
          "metadata": {},
          "execution_count": 75
        }
      ]
    },
    {
      "cell_type": "code",
      "source": [
        "#M4 = (Y>5) | (Y<8) #bitwise or\n",
        "#M4"
      ],
      "metadata": {
        "id": "gq6jKBvlrp79"
      },
      "execution_count": null,
      "outputs": []
    },
    {
      "cell_type": "code",
      "source": [
        "M5 = ~((Y>5) & (Y<8)) #bitwise not\n",
        "M5"
      ],
      "metadata": {
        "colab": {
          "base_uri": "https://localhost:8080/"
        },
        "id": "HCxpANbMr20n",
        "outputId": "2a702de0-c864-40d2-98bf-d0a902d5bab9"
      },
      "execution_count": null,
      "outputs": [
        {
          "output_type": "execute_result",
          "data": {
            "text/plain": [
              "array([ True,  True,  True,  True,  True, False, False,  True,  True,\n",
              "        True])"
            ]
          },
          "metadata": {},
          "execution_count": 77
        }
      ]
    },
    {
      "cell_type": "code",
      "source": [
        "Y[Y>5] #elements greater than 5"
      ],
      "metadata": {
        "colab": {
          "base_uri": "https://localhost:8080/"
        },
        "id": "OqBiNf3XsLHk",
        "outputId": "c34ff0ac-0651-46ee-a763-2fd7046453b0"
      },
      "execution_count": null,
      "outputs": [
        {
          "output_type": "execute_result",
          "data": {
            "text/plain": [
              "array([ 6,  7,  8,  9, 10])"
            ]
          },
          "metadata": {},
          "execution_count": 78
        }
      ]
    },
    {
      "cell_type": "code",
      "source": [
        "Y[M1] #same as above"
      ],
      "metadata": {
        "colab": {
          "base_uri": "https://localhost:8080/"
        },
        "id": "Pdl7atprsRWG",
        "outputId": "ed5ae029-285b-4791-aaed-3b20d4d55dbc"
      },
      "execution_count": null,
      "outputs": [
        {
          "output_type": "execute_result",
          "data": {
            "text/plain": [
              "array([ 6,  7,  8,  9, 10])"
            ]
          },
          "metadata": {},
          "execution_count": 79
        }
      ]
    },
    {
      "cell_type": "code",
      "source": [
        "Y[M2] #even numbers"
      ],
      "metadata": {
        "colab": {
          "base_uri": "https://localhost:8080/"
        },
        "id": "s32raiNMsWmj",
        "outputId": "1a3a2e47-de43-4290-fbf1-5d8c2e581ccc"
      },
      "execution_count": null,
      "outputs": [
        {
          "output_type": "execute_result",
          "data": {
            "text/plain": [
              "array([ 2,  4,  6,  8, 10])"
            ]
          },
          "metadata": {},
          "execution_count": 80
        }
      ]
    },
    {
      "cell_type": "code",
      "source": [
        "Y[M3] #less than 8"
      ],
      "metadata": {
        "colab": {
          "base_uri": "https://localhost:8080/"
        },
        "id": "pleSxfkisqlc",
        "outputId": "a6bf15d5-c46b-4f82-c96c-c43898c62ea4"
      },
      "execution_count": null,
      "outputs": [
        {
          "output_type": "execute_result",
          "data": {
            "text/plain": [
              "array([1, 2, 3, 4, 5, 6, 7])"
            ]
          },
          "metadata": {},
          "execution_count": 81
        }
      ]
    },
    {
      "cell_type": "code",
      "source": [
        "Y[M4] #between 5 and 8"
      ],
      "metadata": {
        "colab": {
          "base_uri": "https://localhost:8080/"
        },
        "id": "1qwHkfI7sthH",
        "outputId": "b1bf523c-a565-4936-aa4f-181775f71a3c"
      },
      "execution_count": null,
      "outputs": [
        {
          "output_type": "execute_result",
          "data": {
            "text/plain": [
              "array([6, 7])"
            ]
          },
          "metadata": {},
          "execution_count": 82
        }
      ]
    },
    {
      "cell_type": "code",
      "source": [
        "np.random.seed(123) #set seed\n",
        "np.random.randint(1,101,10) #random integer"
      ],
      "metadata": {
        "colab": {
          "base_uri": "https://localhost:8080/"
        },
        "id": "DqdjqRlUsvqp",
        "outputId": "a71d07ba-58af-469f-c4eb-1f87b89f66ab"
      },
      "execution_count": null,
      "outputs": [
        {
          "output_type": "execute_result",
          "data": {
            "text/plain": [
              "array([67, 93, 99, 18, 84, 58, 87, 98, 97, 48])"
            ]
          },
          "metadata": {},
          "execution_count": 83
        }
      ]
    },
    {
      "cell_type": "code",
      "source": [
        "np.random.rand(2,5) #random float"
      ],
      "metadata": {
        "colab": {
          "base_uri": "https://localhost:8080/"
        },
        "id": "hQEt1znctflP",
        "outputId": "2025edff-0b7e-41db-c1db-00b5b895455d"
      },
      "execution_count": null,
      "outputs": [
        {
          "output_type": "execute_result",
          "data": {
            "text/plain": [
              "array([[0.39, 0.34, 0.73, 0.44, 0.06],\n",
              "       [0.4 , 0.74, 0.18, 0.18, 0.53]])"
            ]
          },
          "metadata": {},
          "execution_count": 84
        }
      ]
    },
    {
      "cell_type": "code",
      "source": [
        "np.random.normal(2,1,3) #random normal"
      ],
      "metadata": {
        "colab": {
          "base_uri": "https://localhost:8080/"
        },
        "id": "v-xMhu-KtzSa",
        "outputId": "b16e0abf-1fbf-4c65-85d5-2164848f923d"
      },
      "execution_count": null,
      "outputs": [
        {
          "output_type": "execute_result",
          "data": {
            "text/plain": [
              "array([4.21, 2.52, 2.47])"
            ]
          },
          "metadata": {},
          "execution_count": 85
        }
      ]
    },
    {
      "cell_type": "code",
      "source": [
        "W5 = np.arange(1,101)"
      ],
      "metadata": {
        "id": "3p4kyX2guhe1"
      },
      "execution_count": null,
      "outputs": []
    },
    {
      "cell_type": "code",
      "source": [
        "np.random.shuffle(W5) #shuffle\n",
        "W5"
      ],
      "metadata": {
        "colab": {
          "base_uri": "https://localhost:8080/"
        },
        "id": "w3Nd9whHuKq8",
        "outputId": "37e65231-1b90-48d4-a79c-e633c49dbaa2"
      },
      "execution_count": null,
      "outputs": [
        {
          "output_type": "execute_result",
          "data": {
            "text/plain": [
              "array([  8,  90,  48,   3,   5,  33,  88,  62,  37,   1,  32,  38,  29,\n",
              "        58,  46,  30,  25,   9,   6,  17,  14,  81,  60,  47,  21,  92,\n",
              "        85,  36,  61,  34,  89,  69,  63,  39,  20,  74,  24,  10,  75,\n",
              "        79,  43,  73,  83,  87,  68,  40,  67,  22,  12,  66,  91,  84,\n",
              "        64,  80,  49,  42,  54,  45,  52, 100,  18,  82,  13,  50,  57,\n",
              "        51,  26,  56,  97,  44,   2,  72,  55,  15,   7,  27,  71,  99,\n",
              "        31,  96,  16,  19,  78,  23,  11,  59,  94,  76,  65,  70,   4,\n",
              "        41,  77,  35,  28,  95,  86,  98,  53,  93])"
            ]
          },
          "metadata": {},
          "execution_count": 87
        }
      ]
    },
    {
      "cell_type": "code",
      "source": [
        "W5.sort() #sort\n",
        "W5"
      ],
      "metadata": {
        "colab": {
          "base_uri": "https://localhost:8080/"
        },
        "id": "oK_6gCjSwdIP",
        "outputId": "6cba1b01-9ba8-40b2-f6d0-975abfe9416d"
      },
      "execution_count": null,
      "outputs": [
        {
          "output_type": "execute_result",
          "data": {
            "text/plain": [
              "array([  1,   2,   3,   4,   5,   6,   7,   8,   9,  10,  11,  12,  13,\n",
              "        14,  15,  16,  17,  18,  19,  20,  21,  22,  23,  24,  25,  26,\n",
              "        27,  28,  29,  30,  31,  32,  33,  34,  35,  36,  37,  38,  39,\n",
              "        40,  41,  42,  43,  44,  45,  46,  47,  48,  49,  50,  51,  52,\n",
              "        53,  54,  55,  56,  57,  58,  59,  60,  61,  62,  63,  64,  65,\n",
              "        66,  67,  68,  69,  70,  71,  72,  73,  74,  75,  76,  77,  78,\n",
              "        79,  80,  81,  82,  83,  84,  85,  86,  87,  88,  89,  90,  91,\n",
              "        92,  93,  94,  95,  96,  97,  98,  99, 100])"
            ]
          },
          "metadata": {},
          "execution_count": 88
        }
      ]
    },
    {
      "cell_type": "code",
      "source": [
        "np.random.seed(123)\n",
        "W6 = np.random.choice(W5,100,replace=False) #random choice\n",
        "W6"
      ],
      "metadata": {
        "colab": {
          "base_uri": "https://localhost:8080/"
        },
        "id": "Jf8jLrIJwjtk",
        "outputId": "9039df20-c743-41b0-b0bb-e0166e247825"
      },
      "execution_count": null,
      "outputs": [
        {
          "output_type": "execute_result",
          "data": {
            "text/plain": [
              "array([  9,  71,  83,  29,  64,   1,   6,  51,  82,   5,  24,  66,  77,\n",
              "        61,  25,  43,  78,  39,  57,  76,  36,  89,  20,  30,  32,  92,\n",
              "        86,  10,  54,  42,  22,  91,  34,  70,  85,  88,  96,  98,  63,\n",
              "        13,  21,  90,  38,  60,   2,  75,  12,  80,  15,  55,  17,  27,\n",
              "        52,  46,   7,  99,  31,  45,  73,  44,  16,  95,  19,  14,  23,\n",
              "        11,  59,  72,  65,   4,  41,  35,  28,  53,   8,  49,  62,  94,\n",
              "       100,  40,   3,  68,  56,  50,  69,  81,  37,  79,  97,  26,  47,\n",
              "        33,  74,  48,  87,  58,  84,  18,  93,  67])"
            ]
          },
          "metadata": {},
          "execution_count": 89
        }
      ]
    },
    {
      "cell_type": "code",
      "source": [
        "np.random.seed(123)\n",
        "W7 = np.random.choice(W5,100,replace=True) #random choice\n",
        "W7"
      ],
      "metadata": {
        "colab": {
          "base_uri": "https://localhost:8080/"
        },
        "id": "_c7YmGPdw5SF",
        "outputId": "5142fd67-74ad-4711-937a-70200f67c00d"
      },
      "execution_count": null,
      "outputs": [
        {
          "output_type": "execute_result",
          "data": {
            "text/plain": [
              "array([ 67,  93,  99,  18,  84,  58,  87,  98,  97,  48,  74,  33,  47,\n",
              "        97,  26,  84,  79,  37,  97,  81,  69,  50,  56,  68,   3,  85,\n",
              "        40,  67,  85,  48,  62,  49,   8, 100,  93,  53,  98,  86,  95,\n",
              "        28,  35,  98,  77,  41,   4,  70,  65,  76,  35,  59,  11,  23,\n",
              "        78,  19,  16,  28,  31,  53,  71,  27,  81,   7,  15,  76,  55,\n",
              "        72,   2,  44,  59,  56,  26,  51,  85,  57,  50,  13,  19,  82,\n",
              "         2,  52,  45,  49,  57,  92,  50,  87,   4,  68,  12,  22,  90,\n",
              "        99,   4,  12,   4,  95,   7,  10,  88,  15])"
            ]
          },
          "metadata": {},
          "execution_count": 90
        }
      ]
    },
    {
      "cell_type": "code",
      "source": [
        "np.unique(W7) #unique elements"
      ],
      "metadata": {
        "colab": {
          "base_uri": "https://localhost:8080/"
        },
        "id": "LhaGpzqnxcKe",
        "outputId": "c0383a28-65fe-4c85-8352-7d8436c4521d"
      },
      "execution_count": null,
      "outputs": [
        {
          "output_type": "execute_result",
          "data": {
            "text/plain": [
              "array([  2,   3,   4,   7,   8,  10,  11,  12,  13,  15,  16,  18,  19,\n",
              "        22,  23,  26,  27,  28,  31,  33,  35,  37,  40,  41,  44,  45,\n",
              "        47,  48,  49,  50,  51,  52,  53,  55,  56,  57,  58,  59,  62,\n",
              "        65,  67,  68,  69,  70,  71,  72,  74,  76,  77,  78,  79,  81,\n",
              "        82,  84,  85,  86,  87,  88,  90,  92,  93,  95,  97,  98,  99,\n",
              "       100])"
            ]
          },
          "metadata": {},
          "execution_count": 91
        }
      ]
    },
    {
      "cell_type": "code",
      "source": [
        "np.array(list(set(W7)))"
      ],
      "metadata": {
        "colab": {
          "base_uri": "https://localhost:8080/"
        },
        "id": "HLihfhDexsGI",
        "outputId": "2653c6ed-87a5-4925-862e-bff1d5d77dbd"
      },
      "execution_count": null,
      "outputs": [
        {
          "output_type": "execute_result",
          "data": {
            "text/plain": [
              "array([  2,   3,   4,   7,   8,  10,  11,  12,  13,  15,  16,  18,  19,\n",
              "        22,  23,  26,  27,  28,  31,  33,  35,  37,  40,  41,  44,  45,\n",
              "        47,  48,  49,  50,  51,  52,  53,  55,  56,  57,  58,  59,  62,\n",
              "        65,  67,  68,  69,  70,  71,  72,  74,  76,  77,  78,  79,  81,\n",
              "        82,  84,  85,  86,  87,  88,  90,  92,  93,  95,  97,  98,  99,\n",
              "       100])"
            ]
          },
          "metadata": {},
          "execution_count": 92
        }
      ]
    },
    {
      "cell_type": "code",
      "source": [
        "np.unique(W7).size"
      ],
      "metadata": {
        "colab": {
          "base_uri": "https://localhost:8080/"
        },
        "id": "1OuCCVUOyPwz",
        "outputId": "275dc029-a72a-40d5-c8e9-616542e056bb"
      },
      "execution_count": null,
      "outputs": [
        {
          "output_type": "execute_result",
          "data": {
            "text/plain": [
              "66"
            ]
          },
          "metadata": {},
          "execution_count": 93
        }
      ]
    },
    {
      "cell_type": "code",
      "source": [
        "np.unique(W7).shape"
      ],
      "metadata": {
        "colab": {
          "base_uri": "https://localhost:8080/"
        },
        "id": "t6dp8HPayVJ2",
        "outputId": "2751ac06-abbf-4c5e-d9e2-5976b1e11475"
      },
      "execution_count": null,
      "outputs": [
        {
          "output_type": "execute_result",
          "data": {
            "text/plain": [
              "(66,)"
            ]
          },
          "metadata": {},
          "execution_count": 94
        }
      ]
    },
    {
      "cell_type": "code",
      "source": [
        "np.unique(W7,return_index=True,return_counts=True) #count unique elements"
      ],
      "metadata": {
        "colab": {
          "base_uri": "https://localhost:8080/"
        },
        "id": "dyH-3fTfynpT",
        "outputId": "c2b6a445-b3ec-4baf-b071-7285fd10e9e4"
      },
      "execution_count": null,
      "outputs": [
        {
          "output_type": "execute_result",
          "data": {
            "text/plain": [
              "(array([  2,   3,   4,   7,   8,  10,  11,  12,  13,  15,  16,  18,  19,\n",
              "         22,  23,  26,  27,  28,  31,  33,  35,  37,  40,  41,  44,  45,\n",
              "         47,  48,  49,  50,  51,  52,  53,  55,  56,  57,  58,  59,  62,\n",
              "         65,  67,  68,  69,  70,  71,  72,  74,  76,  77,  78,  79,  81,\n",
              "         82,  84,  85,  86,  87,  88,  90,  92,  93,  95,  97,  98,  99,\n",
              "        100]),\n",
              " array([66, 24, 44, 61, 32, 97, 50, 88, 75, 62, 54,  3, 53, 89, 51, 14, 59,\n",
              "        39, 56, 11, 40, 17, 26, 43, 67, 80, 12,  9, 31, 21, 71, 79, 35, 64,\n",
              "        22, 73,  5, 49, 30, 46,  0, 23, 20, 45, 58, 65, 10, 47, 42, 52, 16,\n",
              "        19, 77,  4, 25, 37,  6, 98, 90, 83,  1, 38,  8,  7,  2, 33]),\n",
              " array([2, 1, 4, 2, 1, 1, 1, 2, 1, 2, 1, 1, 2, 1, 1, 2, 1, 2, 1, 1, 2, 1,\n",
              "        1, 1, 1, 1, 1, 2, 2, 3, 1, 1, 2, 1, 2, 2, 1, 2, 1, 1, 2, 2, 1, 1,\n",
              "        1, 1, 1, 2, 1, 1, 1, 2, 1, 2, 3, 1, 2, 1, 1, 1, 2, 2, 3, 3, 2, 1]))"
            ]
          },
          "metadata": {},
          "execution_count": 95
        }
      ]
    },
    {
      "cell_type": "code",
      "source": [
        "np.unique(W6,return_index=True,return_counts=True) #count unique elements"
      ],
      "metadata": {
        "colab": {
          "base_uri": "https://localhost:8080/"
        },
        "id": "N4xfQZEIyv1F",
        "outputId": "d9e894e7-7ef0-4ecb-e488-16632160a27b"
      },
      "execution_count": null,
      "outputs": [
        {
          "output_type": "execute_result",
          "data": {
            "text/plain": [
              "(array([  1,   2,   3,   4,   5,   6,   7,   8,   9,  10,  11,  12,  13,\n",
              "         14,  15,  16,  17,  18,  19,  20,  21,  22,  23,  24,  25,  26,\n",
              "         27,  28,  29,  30,  31,  32,  33,  34,  35,  36,  37,  38,  39,\n",
              "         40,  41,  42,  43,  44,  45,  46,  47,  48,  49,  50,  51,  52,\n",
              "         53,  54,  55,  56,  57,  58,  59,  60,  61,  62,  63,  64,  65,\n",
              "         66,  67,  68,  69,  70,  71,  72,  73,  74,  75,  76,  77,  78,\n",
              "         79,  80,  81,  82,  83,  84,  85,  86,  87,  88,  89,  90,  91,\n",
              "         92,  93,  94,  95,  96,  97,  98,  99, 100]),\n",
              " array([ 5, 44, 80, 69,  9,  6, 54, 74,  0, 27, 65, 46, 39, 63, 48, 60, 50,\n",
              "        97, 62, 22, 40, 30, 64, 10, 14, 89, 51, 72,  3, 23, 56, 24, 91, 32,\n",
              "        71, 20, 86, 42, 17, 79, 70, 29, 15, 59, 57, 53, 90, 93, 75, 83,  7,\n",
              "        52, 73, 28, 49, 82, 18, 95, 66, 43, 13, 76, 38,  4, 68, 11, 99, 81,\n",
              "        84, 33,  1, 67, 58, 92, 45, 19, 12, 16, 87, 47, 85,  8,  2, 96, 34,\n",
              "        26, 94, 35, 21, 41, 31, 25, 98, 77, 61, 36, 88, 37, 55, 78]),\n",
              " array([1, 1, 1, 1, 1, 1, 1, 1, 1, 1, 1, 1, 1, 1, 1, 1, 1, 1, 1, 1, 1, 1,\n",
              "        1, 1, 1, 1, 1, 1, 1, 1, 1, 1, 1, 1, 1, 1, 1, 1, 1, 1, 1, 1, 1, 1,\n",
              "        1, 1, 1, 1, 1, 1, 1, 1, 1, 1, 1, 1, 1, 1, 1, 1, 1, 1, 1, 1, 1, 1,\n",
              "        1, 1, 1, 1, 1, 1, 1, 1, 1, 1, 1, 1, 1, 1, 1, 1, 1, 1, 1, 1, 1, 1,\n",
              "        1, 1, 1, 1, 1, 1, 1, 1, 1, 1, 1, 1]))"
            ]
          },
          "metadata": {},
          "execution_count": 96
        }
      ]
    },
    {
      "cell_type": "code",
      "source": [
        "size =7\n",
        "k = np.arange(size)\n",
        "len(k)"
      ],
      "metadata": {
        "id": "ZqCxFuk1z9Xk",
        "colab": {
          "base_uri": "https://localhost:8080/"
        },
        "outputId": "2fa6438b-7b5c-4c53-8ecd-4440a49f8b7f"
      },
      "execution_count": null,
      "outputs": [
        {
          "output_type": "execute_result",
          "data": {
            "text/plain": [
              "7"
            ]
          },
          "metadata": {},
          "execution_count": 97
        }
      ]
    },
    {
      "cell_type": "code",
      "source": [
        "k1 = np.random.choice(k,size,replace=True)\n",
        "k1"
      ],
      "metadata": {
        "colab": {
          "base_uri": "https://localhost:8080/"
        },
        "id": "VIxcqZrFbXoX",
        "outputId": "0bc4667c-af91-4d34-d19f-104953005330"
      },
      "execution_count": null,
      "outputs": [
        {
          "output_type": "execute_result",
          "data": {
            "text/plain": [
              "array([6, 3, 1, 6, 4, 6, 3])"
            ]
          },
          "metadata": {},
          "execution_count": 98
        }
      ]
    },
    {
      "cell_type": "code",
      "source": [
        "k2= list(range(size))\n",
        "len(k2)"
      ],
      "metadata": {
        "colab": {
          "base_uri": "https://localhost:8080/"
        },
        "id": "v27MW45CbumK",
        "outputId": "dcd1bc56-119c-4789-b6dd-1e2685b77064"
      },
      "execution_count": null,
      "outputs": [
        {
          "output_type": "execute_result",
          "data": {
            "text/plain": [
              "7"
            ]
          },
          "metadata": {},
          "execution_count": 99
        }
      ]
    },
    {
      "cell_type": "code",
      "source": [
        "%time k+2 #list addition"
      ],
      "metadata": {
        "colab": {
          "base_uri": "https://localhost:8080/"
        },
        "id": "PCDU2GIYcKk9",
        "outputId": "20eba743-45ee-4c2d-eac2-c633a3bcf090"
      },
      "execution_count": null,
      "outputs": [
        {
          "output_type": "stream",
          "name": "stdout",
          "text": [
            "CPU times: user 35 µs, sys: 5 µs, total: 40 µs\n",
            "Wall time: 43.4 µs\n"
          ]
        },
        {
          "output_type": "execute_result",
          "data": {
            "text/plain": [
              "array([2, 3, 4, 5, 6, 7, 8])"
            ]
          },
          "metadata": {},
          "execution_count": 100
        }
      ]
    },
    {
      "cell_type": "code",
      "source": [
        "%timeit k+2"
      ],
      "metadata": {
        "colab": {
          "base_uri": "https://localhost:8080/"
        },
        "id": "NutnSlBncUPU",
        "outputId": "ccf45357-aa3d-4a8a-fcef-85f1318bb596"
      },
      "execution_count": null,
      "outputs": [
        {
          "output_type": "stream",
          "name": "stdout",
          "text": [
            "7.17 µs ± 1.36 µs per loop (mean ± std. dev. of 7 runs, 100000 loops each)\n"
          ]
        }
      ]
    },
    {
      "cell_type": "code",
      "source": [
        "%timeit [i+2 for i in k] #list comprehension using timeit"
      ],
      "metadata": {
        "colab": {
          "base_uri": "https://localhost:8080/"
        },
        "id": "tZKlJm_ictUb",
        "outputId": "7e19d20d-1b04-4d6d-c934-300986b2d317"
      },
      "execution_count": null,
      "outputs": [
        {
          "output_type": "stream",
          "name": "stdout",
          "text": [
            "The slowest run took 5.06 times longer than the fastest. This could mean that an intermediate result is being cached.\n",
            "4.9 µs ± 3.76 µs per loop (mean ± std. dev. of 7 runs, 100000 loops each)\n"
          ]
        }
      ]
    },
    {
      "cell_type": "code",
      "source": [
        "%time [i+2 for i in k] #list comprehension using time"
      ],
      "metadata": {
        "colab": {
          "base_uri": "https://localhost:8080/"
        },
        "id": "UmkjC6WwdIbO",
        "outputId": "e4343753-ca94-4bab-ef65-84d3e01c8077"
      },
      "execution_count": null,
      "outputs": [
        {
          "output_type": "stream",
          "name": "stdout",
          "text": [
            "CPU times: user 22 µs, sys: 2 µs, total: 24 µs\n",
            "Wall time: 27.7 µs\n"
          ]
        },
        {
          "output_type": "execute_result",
          "data": {
            "text/plain": [
              "[2, 3, 4, 5, 6, 7, 8]"
            ]
          },
          "metadata": {},
          "execution_count": 103
        }
      ]
    },
    {
      "cell_type": "code",
      "source": [
        "%timeit np.arange(size)+2 #element wise addition"
      ],
      "metadata": {
        "colab": {
          "base_uri": "https://localhost:8080/"
        },
        "id": "w_5yVPpTdMgI",
        "outputId": "657e8067-fba9-4584-c6a9-15677e1ab248"
      },
      "execution_count": null,
      "outputs": [
        {
          "output_type": "stream",
          "name": "stdout",
          "text": [
            "3.16 µs ± 273 ns per loop (mean ± std. dev. of 7 runs, 100000 loops each)\n"
          ]
        }
      ]
    },
    {
      "cell_type": "code",
      "source": [
        "%timeit k*2 #element wise multiplication"
      ],
      "metadata": {
        "colab": {
          "base_uri": "https://localhost:8080/"
        },
        "id": "ysac-pYvdWMt",
        "outputId": "0f913b11-bea9-49e6-dc40-8bbd0d1b67d8"
      },
      "execution_count": null,
      "outputs": [
        {
          "output_type": "stream",
          "name": "stdout",
          "text": [
            "1.47 µs ± 286 ns per loop (mean ± std. dev. of 7 runs, 1000000 loops each)\n"
          ]
        }
      ]
    },
    {
      "cell_type": "code",
      "source": [
        "%timeit [i*2 for i in k] #list comprehension multiplication using timeit"
      ],
      "metadata": {
        "colab": {
          "base_uri": "https://localhost:8080/"
        },
        "id": "ZTG_80Ucdqcw",
        "outputId": "27f20fa8-284f-4337-b30c-a91f11848565"
      },
      "execution_count": null,
      "outputs": [
        {
          "output_type": "stream",
          "name": "stdout",
          "text": [
            "2.11 µs ± 84.6 ns per loop (mean ± std. dev. of 7 runs, 100000 loops each)\n"
          ]
        }
      ]
    },
    {
      "cell_type": "code",
      "source": [
        "%timeit k**2 #element wise exponentiation"
      ],
      "metadata": {
        "colab": {
          "base_uri": "https://localhost:8080/"
        },
        "id": "DsRG400feIGp",
        "outputId": "fafdf43b-ea77-4e8d-82a3-a2e8dbfe9235"
      },
      "execution_count": null,
      "outputs": [
        {
          "output_type": "stream",
          "name": "stdout",
          "text": [
            "800 ns ± 273 ns per loop (mean ± std. dev. of 7 runs, 1000000 loops each)\n"
          ]
        }
      ]
    },
    {
      "cell_type": "code",
      "source": [
        "%timeit [i**2 for i in k] #list comprehension exponentiation using timeit"
      ],
      "metadata": {
        "colab": {
          "base_uri": "https://localhost:8080/"
        },
        "id": "ISRPm7ojeOQ0",
        "outputId": "354b27e0-4c8b-4590-fe45-6dd4bd1d7d66"
      },
      "execution_count": null,
      "outputs": [
        {
          "output_type": "stream",
          "name": "stdout",
          "text": [
            "2.17 µs ± 83.8 ns per loop (mean ± std. dev. of 7 runs, 100000 loops each)\n"
          ]
        }
      ]
    },
    {
      "cell_type": "code",
      "source": [
        "%time k**2 #element wise exponentiation"
      ],
      "metadata": {
        "colab": {
          "base_uri": "https://localhost:8080/"
        },
        "id": "_zWwOecReXUU",
        "outputId": "9ee4ce1b-966b-4821-b779-e9d34deceabe"
      },
      "execution_count": null,
      "outputs": [
        {
          "output_type": "stream",
          "name": "stdout",
          "text": [
            "CPU times: user 24 µs, sys: 0 ns, total: 24 µs\n",
            "Wall time: 26.9 µs\n"
          ]
        },
        {
          "output_type": "execute_result",
          "data": {
            "text/plain": [
              "array([ 0,  1,  4,  9, 16, 25, 36])"
            ]
          },
          "metadata": {},
          "execution_count": 109
        }
      ]
    },
    {
      "cell_type": "code",
      "source": [
        "%timeit np.sqrt(k) #element wise square root"
      ],
      "metadata": {
        "colab": {
          "base_uri": "https://localhost:8080/"
        },
        "id": "fe3UbzSWeefE",
        "outputId": "68a04d64-5eea-4b38-e82d-956b497e08e1"
      },
      "execution_count": null,
      "outputs": [
        {
          "output_type": "stream",
          "name": "stdout",
          "text": [
            "1.16 µs ± 178 ns per loop (mean ± std. dev. of 7 runs, 1000000 loops each)\n"
          ]
        }
      ]
    },
    {
      "cell_type": "code",
      "source": [
        "%time np.sqrt(k)"
      ],
      "metadata": {
        "colab": {
          "base_uri": "https://localhost:8080/"
        },
        "id": "ce4D-qF4emyr",
        "outputId": "24a133de-234b-475b-90de-775d0db987b5"
      },
      "execution_count": null,
      "outputs": [
        {
          "output_type": "stream",
          "name": "stdout",
          "text": [
            "CPU times: user 34 µs, sys: 1 µs, total: 35 µs\n",
            "Wall time: 38.4 µs\n"
          ]
        },
        {
          "output_type": "execute_result",
          "data": {
            "text/plain": [
              "array([0.  , 1.  , 1.41, 1.73, 2.  , 2.24, 2.45])"
            ]
          },
          "metadata": {},
          "execution_count": 111
        }
      ]
    },
    {
      "cell_type": "code",
      "source": [
        "%timeit np.exp(k) #element wise exponential"
      ],
      "metadata": {
        "colab": {
          "base_uri": "https://localhost:8080/"
        },
        "id": "Zm0MSIdeewkB",
        "outputId": "c695935c-6609-4a9e-9d87-974b74963120"
      },
      "execution_count": null,
      "outputs": [
        {
          "output_type": "stream",
          "name": "stdout",
          "text": [
            "2.12 µs ± 295 ns per loop (mean ± std. dev. of 7 runs, 100000 loops each)\n"
          ]
        }
      ]
    },
    {
      "cell_type": "code",
      "source": [
        "%timeit [i**0.5 for i in k] #list comprehension exponential using timeit"
      ],
      "metadata": {
        "colab": {
          "base_uri": "https://localhost:8080/"
        },
        "id": "zFHJzVT7e7Ap",
        "outputId": "1b81bb98-71e1-4288-e77b-bbb364771d43"
      },
      "execution_count": null,
      "outputs": [
        {
          "output_type": "stream",
          "name": "stdout",
          "text": [
            "15.8 µs ± 4.14 µs per loop (mean ± std. dev. of 7 runs, 100000 loops each)\n"
          ]
        }
      ]
    },
    {
      "cell_type": "code",
      "source": [
        "%timeit np.log(k) #element wise logarithm"
      ],
      "metadata": {
        "colab": {
          "base_uri": "https://localhost:8080/"
        },
        "id": "hniIrZ1efHyy",
        "outputId": "759b9040-4624-4f71-d6eb-ed20a7504029"
      },
      "execution_count": null,
      "outputs": [
        {
          "output_type": "stream",
          "name": "stderr",
          "text": [
            "<magic-timeit>:1: RuntimeWarning: divide by zero encountered in log\n"
          ]
        },
        {
          "output_type": "stream",
          "name": "stdout",
          "text": [
            "2.32 µs ± 118 ns per loop (mean ± std. dev. of 7 runs, 100000 loops each)\n"
          ]
        }
      ]
    },
    {
      "cell_type": "code",
      "source": [
        "np.random.seed(123)\n",
        "(np.random.randint(1,11,1000000).reshape(10000,100).sum(axis=1)).mean() # Removed the comparison operator, assuming you wanted to reshape to a 10000x100 array"
      ],
      "metadata": {
        "id": "0lgPRKrYfgBQ",
        "colab": {
          "base_uri": "https://localhost:8080/"
        },
        "outputId": "120306e9-43c0-470c-e073-960c137cdd2b"
      },
      "execution_count": null,
      "outputs": [
        {
          "output_type": "execute_result",
          "data": {
            "text/plain": [
              "550.3482"
            ]
          },
          "metadata": {},
          "execution_count": 127
        }
      ]
    },
    {
      "cell_type": "code",
      "source": [
        "%timeit (np.random.randint(1,11,100*10000).reshape(10000,100).sum(axis=1)).mean()"
      ],
      "metadata": {
        "colab": {
          "base_uri": "https://localhost:8080/"
        },
        "id": "Gx9_WUiwRBHk",
        "outputId": "4ab78eeb-9929-4c48-c443-70007e236241"
      },
      "execution_count": null,
      "outputs": [
        {
          "output_type": "stream",
          "name": "stdout",
          "text": [
            "17.8 ms ± 1.72 ms per loop (mean ± std. dev. of 7 runs, 100 loops each)\n"
          ]
        }
      ]
    },
    {
      "cell_type": "code",
      "source": [
        "(np.random.randint(1,11,10000*100).reshape(10000,100)==1 ).sum(axis=1).mean()"
      ],
      "metadata": {
        "colab": {
          "base_uri": "https://localhost:8080/"
        },
        "id": "Y1Go9lzDSmZl",
        "outputId": "42c02359-ef5c-4b00-b0df-3b02fb92dbf3"
      },
      "execution_count": null,
      "outputs": [
        {
          "output_type": "execute_result",
          "data": {
            "text/plain": [
              "10.0036"
            ]
          },
          "metadata": {},
          "execution_count": 129
        }
      ]
    },
    {
      "cell_type": "code",
      "source": [
        "np.random.seed(7)\n",
        "F = np.random.randint(1,101,11, )\n",
        "F"
      ],
      "metadata": {
        "colab": {
          "base_uri": "https://localhost:8080/"
        },
        "id": "0sr9lJQxTMCX",
        "outputId": "f8746f54-8813-4af3-c094-50499248cb5b"
      },
      "execution_count": null,
      "outputs": [
        {
          "output_type": "execute_result",
          "data": {
            "text/plain": [
              "array([48, 69, 26, 68, 84, 24, 93, 58, 15, 24, 73])"
            ]
          },
          "metadata": {},
          "execution_count": 148
        }
      ]
    },
    {
      "cell_type": "code",
      "source": [
        "F.sort()\n",
        "F"
      ],
      "metadata": {
        "colab": {
          "base_uri": "https://localhost:8080/"
        },
        "id": "hi15k2l8UHY6",
        "outputId": "4d853d75-032c-4ac8-9311-35dc571f0ae3"
      },
      "execution_count": null,
      "outputs": [
        {
          "output_type": "execute_result",
          "data": {
            "text/plain": [
              "array([15, 24, 24, 26, 48, 58, 68, 69, 73, 84, 93])"
            ]
          },
          "metadata": {},
          "execution_count": 149
        }
      ]
    },
    {
      "cell_type": "code",
      "source": [
        "F.max()"
      ],
      "metadata": {
        "colab": {
          "base_uri": "https://localhost:8080/"
        },
        "id": "RsP9FiYRUNl_",
        "outputId": "55ee73a6-5f82-4c47-9a71-cbdaabcfb967"
      },
      "execution_count": null,
      "outputs": [
        {
          "output_type": "execute_result",
          "data": {
            "text/plain": [
              "93"
            ]
          },
          "metadata": {},
          "execution_count": 150
        }
      ]
    },
    {
      "cell_type": "code",
      "source": [
        "F.min()"
      ],
      "metadata": {
        "colab": {
          "base_uri": "https://localhost:8080/"
        },
        "id": "p_vrEhsRUUhf",
        "outputId": "fa50e1e9-0c91-4cc6-976e-7a480cfdaddc"
      },
      "execution_count": null,
      "outputs": [
        {
          "output_type": "execute_result",
          "data": {
            "text/plain": [
              "15"
            ]
          },
          "metadata": {},
          "execution_count": 151
        }
      ]
    },
    {
      "cell_type": "code",
      "source": [
        "F.mean()"
      ],
      "metadata": {
        "colab": {
          "base_uri": "https://localhost:8080/"
        },
        "id": "-wTmpAP9UWee",
        "outputId": "47c50aa2-2426-4dda-a94d-15cae8e360e6"
      },
      "execution_count": null,
      "outputs": [
        {
          "output_type": "execute_result",
          "data": {
            "text/plain": [
              "52.90909090909091"
            ]
          },
          "metadata": {},
          "execution_count": 152
        }
      ]
    },
    {
      "cell_type": "code",
      "source": [
        "np.mean(F)"
      ],
      "metadata": {
        "colab": {
          "base_uri": "https://localhost:8080/"
        },
        "id": "uc3vqSk-UZxU",
        "outputId": "4f649bb0-482a-491b-f9ea-816704496fdd"
      },
      "execution_count": null,
      "outputs": [
        {
          "output_type": "execute_result",
          "data": {
            "text/plain": [
              "52.90909090909091"
            ]
          },
          "metadata": {},
          "execution_count": 153
        }
      ]
    },
    {
      "cell_type": "code",
      "source": [
        "np.median(F)"
      ],
      "metadata": {
        "colab": {
          "base_uri": "https://localhost:8080/"
        },
        "id": "r03ihBqPUkSO",
        "outputId": "bd03bc57-3ab3-448f-ffc7-06c3a504469c"
      },
      "execution_count": null,
      "outputs": [
        {
          "output_type": "execute_result",
          "data": {
            "text/plain": [
              "58.0"
            ]
          },
          "metadata": {},
          "execution_count": 154
        }
      ]
    },
    {
      "cell_type": "code",
      "source": [
        "F.std()"
      ],
      "metadata": {
        "colab": {
          "base_uri": "https://localhost:8080/"
        },
        "id": "13O78vg_UuBj",
        "outputId": "ceb9757d-ccd2-464d-b496-b5f87170a504"
      },
      "execution_count": null,
      "outputs": [
        {
          "output_type": "execute_result",
          "data": {
            "text/plain": [
              "25.84377732542751"
            ]
          },
          "metadata": {},
          "execution_count": 155
        }
      ]
    },
    {
      "cell_type": "code",
      "source": [
        "F.var()"
      ],
      "metadata": {
        "colab": {
          "base_uri": "https://localhost:8080/"
        },
        "id": "VWel0pRrUxto",
        "outputId": "fe085cdb-c395-4601-b27d-3d38333fec5f"
      },
      "execution_count": null,
      "outputs": [
        {
          "output_type": "execute_result",
          "data": {
            "text/plain": [
              "667.900826446281"
            ]
          },
          "metadata": {},
          "execution_count": 156
        }
      ]
    },
    {
      "cell_type": "code",
      "source": [
        "np.percentile(F,25)"
      ],
      "metadata": {
        "colab": {
          "base_uri": "https://localhost:8080/"
        },
        "id": "UEhnuVEhUz4l",
        "outputId": "7440631b-0b10-4d9e-b04a-6c567fb0697a"
      },
      "execution_count": null,
      "outputs": [
        {
          "output_type": "execute_result",
          "data": {
            "text/plain": [
              "25.0"
            ]
          },
          "metadata": {},
          "execution_count": 157
        }
      ]
    },
    {
      "cell_type": "code",
      "source": [
        "np.percentile(F,75)"
      ],
      "metadata": {
        "colab": {
          "base_uri": "https://localhost:8080/"
        },
        "id": "ZwdDRr8oVSjY",
        "outputId": "d8eccae1-ab45-40cf-dd1d-baea4b4bcb25"
      },
      "execution_count": null,
      "outputs": [
        {
          "output_type": "execute_result",
          "data": {
            "text/plain": [
              "71.0"
            ]
          },
          "metadata": {},
          "execution_count": 158
        }
      ]
    },
    {
      "cell_type": "code",
      "source": [
        "np.percentile(F,50)"
      ],
      "metadata": {
        "colab": {
          "base_uri": "https://localhost:8080/"
        },
        "id": "W4OUTSMCVhQl",
        "outputId": "0a177cd9-b3c4-4f82-e6b2-9555d1635ccb"
      },
      "execution_count": null,
      "outputs": [
        {
          "output_type": "execute_result",
          "data": {
            "text/plain": [
              "58.0"
            ]
          },
          "metadata": {},
          "execution_count": 159
        }
      ]
    },
    {
      "cell_type": "code",
      "source": [
        "np.percentile(F,[25,50,75])"
      ],
      "metadata": {
        "colab": {
          "base_uri": "https://localhost:8080/"
        },
        "id": "bfY1l9vMVldw",
        "outputId": "fa1e00b5-6030-47b3-9c5b-0254bed74327"
      },
      "execution_count": null,
      "outputs": [
        {
          "output_type": "execute_result",
          "data": {
            "text/plain": [
              "array([25., 58., 71.])"
            ]
          },
          "metadata": {},
          "execution_count": 160
        }
      ]
    },
    {
      "cell_type": "code",
      "source": [
        "np.random.seed(3)\n",
        "G = np.random.randint(1,101,11)\n",
        "G"
      ],
      "metadata": {
        "colab": {
          "base_uri": "https://localhost:8080/"
        },
        "id": "TQ_stgDKVoXA",
        "outputId": "7b0028c2-958a-4db3-e47d-edc780e7a6ad"
      },
      "execution_count": null,
      "outputs": [
        {
          "output_type": "execute_result",
          "data": {
            "text/plain": [
              "array([25,  4, 57, 73,  1, 22, 20, 75, 42, 11, 22])"
            ]
          },
          "metadata": {},
          "execution_count": 161
        }
      ]
    },
    {
      "cell_type": "code",
      "source": [
        "np.cov(F,G)"
      ],
      "metadata": {
        "colab": {
          "base_uri": "https://localhost:8080/"
        },
        "id": "Cs4omrAiV_Oj",
        "outputId": "ea247e9c-c6c6-4269-ffd7-227f1435bb4d"
      },
      "execution_count": null,
      "outputs": [
        {
          "output_type": "execute_result",
          "data": {
            "text/plain": [
              "array([[734.69, -99.2 ],\n",
              "       [-99.2 , 683.4 ]])"
            ]
          },
          "metadata": {},
          "execution_count": 162
        }
      ]
    },
    {
      "cell_type": "code",
      "source": [
        "np.correlate(F,G)"
      ],
      "metadata": {
        "colab": {
          "base_uri": "https://localhost:8080/"
        },
        "id": "slzvnCTPWEI9",
        "outputId": "4a33232e-c195-485c-aa27-4c0f116e089b"
      },
      "execution_count": null,
      "outputs": [
        {
          "output_type": "execute_result",
          "data": {
            "text/plain": [
              "array([17632])"
            ]
          },
          "metadata": {},
          "execution_count": 164
        }
      ]
    },
    {
      "cell_type": "code",
      "source": [
        "np.corrcoef(F,G)"
      ],
      "metadata": {
        "colab": {
          "base_uri": "https://localhost:8080/"
        },
        "id": "mlLABEXtWJA1",
        "outputId": "d97f6a99-014b-4604-c3d3-9bb7f5e28de4"
      },
      "execution_count": null,
      "outputs": [
        {
          "output_type": "execute_result",
          "data": {
            "text/plain": [
              "array([[ 1.  , -0.14],\n",
              "       [-0.14,  1.  ]])"
            ]
          },
          "metadata": {},
          "execution_count": 165
        }
      ]
    },
    {
      "cell_type": "code",
      "source": [
        "np.linspace(0,10,121)"
      ],
      "metadata": {
        "colab": {
          "base_uri": "https://localhost:8080/"
        },
        "id": "x5z9xsa9WS-7",
        "outputId": "b1bd3570-6f9b-4ce4-e4e5-357c14cff5fb"
      },
      "execution_count": null,
      "outputs": [
        {
          "output_type": "execute_result",
          "data": {
            "text/plain": [
              "array([ 0.  ,  0.08,  0.17,  0.25,  0.33,  0.42,  0.5 ,  0.58,  0.67,\n",
              "        0.75,  0.83,  0.92,  1.  ,  1.08,  1.17,  1.25,  1.33,  1.42,\n",
              "        1.5 ,  1.58,  1.67,  1.75,  1.83,  1.92,  2.  ,  2.08,  2.17,\n",
              "        2.25,  2.33,  2.42,  2.5 ,  2.58,  2.67,  2.75,  2.83,  2.92,\n",
              "        3.  ,  3.08,  3.17,  3.25,  3.33,  3.42,  3.5 ,  3.58,  3.67,\n",
              "        3.75,  3.83,  3.92,  4.  ,  4.08,  4.17,  4.25,  4.33,  4.42,\n",
              "        4.5 ,  4.58,  4.67,  4.75,  4.83,  4.92,  5.  ,  5.08,  5.17,\n",
              "        5.25,  5.33,  5.42,  5.5 ,  5.58,  5.67,  5.75,  5.83,  5.92,\n",
              "        6.  ,  6.08,  6.17,  6.25,  6.33,  6.42,  6.5 ,  6.58,  6.67,\n",
              "        6.75,  6.83,  6.92,  7.  ,  7.08,  7.17,  7.25,  7.33,  7.42,\n",
              "        7.5 ,  7.58,  7.67,  7.75,  7.83,  7.92,  8.  ,  8.08,  8.17,\n",
              "        8.25,  8.33,  8.42,  8.5 ,  8.58,  8.67,  8.75,  8.83,  8.92,\n",
              "        9.  ,  9.08,  9.17,  9.25,  9.33,  9.42,  9.5 ,  9.58,  9.67,\n",
              "        9.75,  9.83,  9.92, 10.  ])"
            ]
          },
          "metadata": {},
          "execution_count": 167
        }
      ]
    },
    {
      "cell_type": "code",
      "source": [
        "np.polyfit(F,G,1)"
      ],
      "metadata": {
        "colab": {
          "base_uri": "https://localhost:8080/"
        },
        "id": "RHxil_1uYjsU",
        "outputId": "4cf45375-ba42-47b2-c535-913d3ff1bfa1"
      },
      "execution_count": null,
      "outputs": [
        {
          "output_type": "execute_result",
          "data": {
            "text/plain": [
              "array([-0.14, 39.14])"
            ]
          },
          "metadata": {},
          "execution_count": 168
        }
      ]
    },
    {
      "cell_type": "code",
      "source": [
        "np.poly1d(np.polyfit(F,G,1))"
      ],
      "metadata": {
        "colab": {
          "base_uri": "https://localhost:8080/"
        },
        "id": "QhjwKQsEY87s",
        "outputId": "2d5966f7-e2c3-4a72-d58b-2692d36daee2"
      },
      "execution_count": null,
      "outputs": [
        {
          "output_type": "execute_result",
          "data": {
            "text/plain": [
              "poly1d([-0.14, 39.14])"
            ]
          },
          "metadata": {},
          "execution_count": 169
        }
      ]
    },
    {
      "cell_type": "code",
      "source": [
        "np.polyval(np.polyfit(F,G,1),F)"
      ],
      "metadata": {
        "colab": {
          "base_uri": "https://localhost:8080/"
        },
        "id": "spYk-XjHZDqr",
        "outputId": "b23aca19-b5b5-4d02-ce87-e93a8323deef"
      },
      "execution_count": null,
      "outputs": [
        {
          "output_type": "execute_result",
          "data": {
            "text/plain": [
              "array([37.12, 35.9 , 35.9 , 35.63, 32.66, 31.31, 29.96, 29.83, 29.29,\n",
              "       27.8 , 26.59])"
            ]
          },
          "metadata": {},
          "execution_count": 172
        }
      ]
    },
    {
      "cell_type": "code",
      "source": [
        "np.polyder(np.polyfit(F,G,1))"
      ],
      "metadata": {
        "colab": {
          "base_uri": "https://localhost:8080/"
        },
        "id": "xhKTVJJ9ZG20",
        "outputId": "4aac7451-6e34-4f0e-8dcc-9d00eab17d24"
      },
      "execution_count": null,
      "outputs": [
        {
          "output_type": "execute_result",
          "data": {
            "text/plain": [
              "array([-0.14])"
            ]
          },
          "metadata": {},
          "execution_count": 173
        }
      ]
    },
    {
      "cell_type": "code",
      "source": [
        "np.arange(6, 19, 3)"
      ],
      "metadata": {
        "colab": {
          "base_uri": "https://localhost:8080/"
        },
        "id": "ZLRJoN_MZZPy",
        "outputId": "ee7c7890-594f-4680-b8ee-f036d1b35e9d"
      },
      "execution_count": null,
      "outputs": [
        {
          "output_type": "execute_result",
          "data": {
            "text/plain": [
              "array([ 6,  9, 12, 15, 18])"
            ]
          },
          "metadata": {},
          "execution_count": 175
        }
      ]
    },
    {
      "cell_type": "code",
      "source": [],
      "metadata": {
        "id": "KPqdzdx3cRlD"
      },
      "execution_count": null,
      "outputs": []
    }
  ]
}